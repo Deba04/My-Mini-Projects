{
 "cells": [
  {
   "cell_type": "code",
   "execution_count": 1,
   "metadata": {},
   "outputs": [],
   "source": [
    "# importing necessary libraries\n",
    "import numpy  as np\n",
    "import pandas as pd\n",
    "import matplotlib.pyplot as plt\n",
    "import seaborn as sns\n",
    "\n",
    "from sklearn.model_selection import train_test_split\n",
    "from sklearn.preprocessing import StandardScaler\n",
    "\n",
    "from imblearn.over_sampling import SMOTE\n",
    "\n",
    "from scipy.stats          import randint as sp_randint\n",
    "from sklearn.model_selection import RandomizedSearchCV\n",
    "from sklearn                 import model_selection"
   ]
  },
  {
   "cell_type": "code",
   "execution_count": 2,
   "metadata": {},
   "outputs": [
    {
     "data": {
      "text/html": [
       "<div>\n",
       "<style scoped>\n",
       "    .dataframe tbody tr th:only-of-type {\n",
       "        vertical-align: middle;\n",
       "    }\n",
       "\n",
       "    .dataframe tbody tr th {\n",
       "        vertical-align: top;\n",
       "    }\n",
       "\n",
       "    .dataframe thead th {\n",
       "        text-align: right;\n",
       "    }\n",
       "</style>\n",
       "<table border=\"1\" class=\"dataframe\">\n",
       "  <thead>\n",
       "    <tr style=\"text-align: right;\">\n",
       "      <th></th>\n",
       "      <th>Class</th>\n",
       "      <th>Alcohol</th>\n",
       "      <th>Malic Acid</th>\n",
       "      <th>Ash</th>\n",
       "      <th>Alcalinity of Ash</th>\n",
       "      <th>Magnesium</th>\n",
       "      <th>Phenols</th>\n",
       "      <th>Flavanoids</th>\n",
       "      <th>Non-Flavanoids Phenols</th>\n",
       "      <th>Proanthocyanins</th>\n",
       "      <th>Color Intensity</th>\n",
       "      <th>Hue</th>\n",
       "      <th>Diluted Wines</th>\n",
       "      <th>Proline</th>\n",
       "    </tr>\n",
       "  </thead>\n",
       "  <tbody>\n",
       "    <tr>\n",
       "      <th>0</th>\n",
       "      <td>1</td>\n",
       "      <td>14.23</td>\n",
       "      <td>1.71</td>\n",
       "      <td>2.43</td>\n",
       "      <td>15.6</td>\n",
       "      <td>127</td>\n",
       "      <td>2.80</td>\n",
       "      <td>3.06</td>\n",
       "      <td>0.28</td>\n",
       "      <td>2.29</td>\n",
       "      <td>5.64</td>\n",
       "      <td>1.04</td>\n",
       "      <td>3.92</td>\n",
       "      <td>1065</td>\n",
       "    </tr>\n",
       "    <tr>\n",
       "      <th>1</th>\n",
       "      <td>1</td>\n",
       "      <td>13.20</td>\n",
       "      <td>1.78</td>\n",
       "      <td>2.14</td>\n",
       "      <td>11.2</td>\n",
       "      <td>100</td>\n",
       "      <td>2.65</td>\n",
       "      <td>2.76</td>\n",
       "      <td>0.26</td>\n",
       "      <td>1.28</td>\n",
       "      <td>4.38</td>\n",
       "      <td>1.05</td>\n",
       "      <td>3.40</td>\n",
       "      <td>1050</td>\n",
       "    </tr>\n",
       "    <tr>\n",
       "      <th>2</th>\n",
       "      <td>1</td>\n",
       "      <td>13.16</td>\n",
       "      <td>2.36</td>\n",
       "      <td>2.67</td>\n",
       "      <td>18.6</td>\n",
       "      <td>101</td>\n",
       "      <td>2.80</td>\n",
       "      <td>3.24</td>\n",
       "      <td>0.30</td>\n",
       "      <td>2.81</td>\n",
       "      <td>5.68</td>\n",
       "      <td>1.03</td>\n",
       "      <td>3.17</td>\n",
       "      <td>1185</td>\n",
       "    </tr>\n",
       "    <tr>\n",
       "      <th>3</th>\n",
       "      <td>1</td>\n",
       "      <td>14.37</td>\n",
       "      <td>1.95</td>\n",
       "      <td>2.50</td>\n",
       "      <td>16.8</td>\n",
       "      <td>113</td>\n",
       "      <td>3.85</td>\n",
       "      <td>3.49</td>\n",
       "      <td>0.24</td>\n",
       "      <td>2.18</td>\n",
       "      <td>7.80</td>\n",
       "      <td>0.86</td>\n",
       "      <td>3.45</td>\n",
       "      <td>1480</td>\n",
       "    </tr>\n",
       "    <tr>\n",
       "      <th>4</th>\n",
       "      <td>1</td>\n",
       "      <td>13.24</td>\n",
       "      <td>2.59</td>\n",
       "      <td>2.87</td>\n",
       "      <td>21.0</td>\n",
       "      <td>118</td>\n",
       "      <td>2.80</td>\n",
       "      <td>2.69</td>\n",
       "      <td>0.39</td>\n",
       "      <td>1.82</td>\n",
       "      <td>4.32</td>\n",
       "      <td>1.04</td>\n",
       "      <td>2.93</td>\n",
       "      <td>735</td>\n",
       "    </tr>\n",
       "  </tbody>\n",
       "</table>\n",
       "</div>"
      ],
      "text/plain": [
       "   Class  Alcohol  Malic Acid   Ash  Alcalinity of Ash  Magnesium  Phenols  \\\n",
       "0      1    14.23        1.71  2.43               15.6        127     2.80   \n",
       "1      1    13.20        1.78  2.14               11.2        100     2.65   \n",
       "2      1    13.16        2.36  2.67               18.6        101     2.80   \n",
       "3      1    14.37        1.95  2.50               16.8        113     3.85   \n",
       "4      1    13.24        2.59  2.87               21.0        118     2.80   \n",
       "\n",
       "   Flavanoids  Non-Flavanoids Phenols  Proanthocyanins  Color Intensity   Hue  \\\n",
       "0        3.06                    0.28             2.29             5.64  1.04   \n",
       "1        2.76                    0.26             1.28             4.38  1.05   \n",
       "2        3.24                    0.30             2.81             5.68  1.03   \n",
       "3        3.49                    0.24             2.18             7.80  0.86   \n",
       "4        2.69                    0.39             1.82             4.32  1.04   \n",
       "\n",
       "   Diluted Wines  Proline  \n",
       "0           3.92     1065  \n",
       "1           3.40     1050  \n",
       "2           3.17     1185  \n",
       "3           3.45     1480  \n",
       "4           2.93      735  "
      ]
     },
     "execution_count": 2,
     "metadata": {},
     "output_type": "execute_result"
    }
   ],
   "source": [
    "# reading dataset\n",
    "\n",
    "col_names = ['Class','Alcohol','Malic Acid','Ash','Alcalinity of Ash','Magnesium','Phenols','Flavanoids','Non-Flavanoids Phenols','Proanthocyanins','Color Intensity','Hue','Diluted Wines','Proline']\n",
    "data = pd.read_csv('wine.data.txt', names = col_names, index_col = 0)\n",
    "data.reset_index(inplace=True)\n",
    "data.head()"
   ]
  },
  {
   "cell_type": "code",
   "execution_count": 3,
   "metadata": {},
   "outputs": [
    {
     "data": {
      "text/plain": [
       "(178, 14)"
      ]
     },
     "execution_count": 3,
     "metadata": {},
     "output_type": "execute_result"
    }
   ],
   "source": [
    "data.shape"
   ]
  },
  {
   "cell_type": "code",
   "execution_count": 4,
   "metadata": {},
   "outputs": [
    {
     "name": "stdout",
     "output_type": "stream",
     "text": [
      "<class 'pandas.core.frame.DataFrame'>\n",
      "RangeIndex: 178 entries, 0 to 177\n",
      "Data columns (total 14 columns):\n",
      "Class                     178 non-null int64\n",
      "Alcohol                   178 non-null float64\n",
      "Malic Acid                178 non-null float64\n",
      "Ash                       178 non-null float64\n",
      "Alcalinity of Ash         178 non-null float64\n",
      "Magnesium                 178 non-null int64\n",
      "Phenols                   178 non-null float64\n",
      "Flavanoids                178 non-null float64\n",
      "Non-Flavanoids Phenols    178 non-null float64\n",
      "Proanthocyanins           178 non-null float64\n",
      "Color Intensity           178 non-null float64\n",
      "Hue                       178 non-null float64\n",
      "Diluted Wines             178 non-null float64\n",
      "Proline                   178 non-null int64\n",
      "dtypes: float64(11), int64(3)\n",
      "memory usage: 19.5 KB\n"
     ]
    }
   ],
   "source": [
    "data.info()"
   ]
  },
  {
   "cell_type": "code",
   "execution_count": 5,
   "metadata": {},
   "outputs": [
    {
     "data": {
      "text/html": [
       "<div>\n",
       "<style scoped>\n",
       "    .dataframe tbody tr th:only-of-type {\n",
       "        vertical-align: middle;\n",
       "    }\n",
       "\n",
       "    .dataframe tbody tr th {\n",
       "        vertical-align: top;\n",
       "    }\n",
       "\n",
       "    .dataframe thead th {\n",
       "        text-align: right;\n",
       "    }\n",
       "</style>\n",
       "<table border=\"1\" class=\"dataframe\">\n",
       "  <thead>\n",
       "    <tr style=\"text-align: right;\">\n",
       "      <th></th>\n",
       "      <th>count</th>\n",
       "      <th>mean</th>\n",
       "      <th>std</th>\n",
       "      <th>min</th>\n",
       "      <th>25%</th>\n",
       "      <th>50%</th>\n",
       "      <th>75%</th>\n",
       "      <th>max</th>\n",
       "    </tr>\n",
       "  </thead>\n",
       "  <tbody>\n",
       "    <tr>\n",
       "      <th>Class</th>\n",
       "      <td>178.0</td>\n",
       "      <td>1.938202</td>\n",
       "      <td>0.775035</td>\n",
       "      <td>1.00</td>\n",
       "      <td>1.0000</td>\n",
       "      <td>2.000</td>\n",
       "      <td>3.0000</td>\n",
       "      <td>3.00</td>\n",
       "    </tr>\n",
       "    <tr>\n",
       "      <th>Alcohol</th>\n",
       "      <td>178.0</td>\n",
       "      <td>13.000618</td>\n",
       "      <td>0.811827</td>\n",
       "      <td>11.03</td>\n",
       "      <td>12.3625</td>\n",
       "      <td>13.050</td>\n",
       "      <td>13.6775</td>\n",
       "      <td>14.83</td>\n",
       "    </tr>\n",
       "    <tr>\n",
       "      <th>Malic Acid</th>\n",
       "      <td>178.0</td>\n",
       "      <td>2.336348</td>\n",
       "      <td>1.117146</td>\n",
       "      <td>0.74</td>\n",
       "      <td>1.6025</td>\n",
       "      <td>1.865</td>\n",
       "      <td>3.0825</td>\n",
       "      <td>5.80</td>\n",
       "    </tr>\n",
       "    <tr>\n",
       "      <th>Ash</th>\n",
       "      <td>178.0</td>\n",
       "      <td>2.366517</td>\n",
       "      <td>0.274344</td>\n",
       "      <td>1.36</td>\n",
       "      <td>2.2100</td>\n",
       "      <td>2.360</td>\n",
       "      <td>2.5575</td>\n",
       "      <td>3.23</td>\n",
       "    </tr>\n",
       "    <tr>\n",
       "      <th>Alcalinity of Ash</th>\n",
       "      <td>178.0</td>\n",
       "      <td>19.494944</td>\n",
       "      <td>3.339564</td>\n",
       "      <td>10.60</td>\n",
       "      <td>17.2000</td>\n",
       "      <td>19.500</td>\n",
       "      <td>21.5000</td>\n",
       "      <td>30.00</td>\n",
       "    </tr>\n",
       "    <tr>\n",
       "      <th>Magnesium</th>\n",
       "      <td>178.0</td>\n",
       "      <td>99.741573</td>\n",
       "      <td>14.282484</td>\n",
       "      <td>70.00</td>\n",
       "      <td>88.0000</td>\n",
       "      <td>98.000</td>\n",
       "      <td>107.0000</td>\n",
       "      <td>162.00</td>\n",
       "    </tr>\n",
       "    <tr>\n",
       "      <th>Phenols</th>\n",
       "      <td>178.0</td>\n",
       "      <td>2.295112</td>\n",
       "      <td>0.625851</td>\n",
       "      <td>0.98</td>\n",
       "      <td>1.7425</td>\n",
       "      <td>2.355</td>\n",
       "      <td>2.8000</td>\n",
       "      <td>3.88</td>\n",
       "    </tr>\n",
       "    <tr>\n",
       "      <th>Flavanoids</th>\n",
       "      <td>178.0</td>\n",
       "      <td>2.029270</td>\n",
       "      <td>0.998859</td>\n",
       "      <td>0.34</td>\n",
       "      <td>1.2050</td>\n",
       "      <td>2.135</td>\n",
       "      <td>2.8750</td>\n",
       "      <td>5.08</td>\n",
       "    </tr>\n",
       "    <tr>\n",
       "      <th>Non-Flavanoids Phenols</th>\n",
       "      <td>178.0</td>\n",
       "      <td>0.361854</td>\n",
       "      <td>0.124453</td>\n",
       "      <td>0.13</td>\n",
       "      <td>0.2700</td>\n",
       "      <td>0.340</td>\n",
       "      <td>0.4375</td>\n",
       "      <td>0.66</td>\n",
       "    </tr>\n",
       "    <tr>\n",
       "      <th>Proanthocyanins</th>\n",
       "      <td>178.0</td>\n",
       "      <td>1.590899</td>\n",
       "      <td>0.572359</td>\n",
       "      <td>0.41</td>\n",
       "      <td>1.2500</td>\n",
       "      <td>1.555</td>\n",
       "      <td>1.9500</td>\n",
       "      <td>3.58</td>\n",
       "    </tr>\n",
       "    <tr>\n",
       "      <th>Color Intensity</th>\n",
       "      <td>178.0</td>\n",
       "      <td>5.058090</td>\n",
       "      <td>2.318286</td>\n",
       "      <td>1.28</td>\n",
       "      <td>3.2200</td>\n",
       "      <td>4.690</td>\n",
       "      <td>6.2000</td>\n",
       "      <td>13.00</td>\n",
       "    </tr>\n",
       "    <tr>\n",
       "      <th>Hue</th>\n",
       "      <td>178.0</td>\n",
       "      <td>0.957449</td>\n",
       "      <td>0.228572</td>\n",
       "      <td>0.48</td>\n",
       "      <td>0.7825</td>\n",
       "      <td>0.965</td>\n",
       "      <td>1.1200</td>\n",
       "      <td>1.71</td>\n",
       "    </tr>\n",
       "    <tr>\n",
       "      <th>Diluted Wines</th>\n",
       "      <td>178.0</td>\n",
       "      <td>2.611685</td>\n",
       "      <td>0.709990</td>\n",
       "      <td>1.27</td>\n",
       "      <td>1.9375</td>\n",
       "      <td>2.780</td>\n",
       "      <td>3.1700</td>\n",
       "      <td>4.00</td>\n",
       "    </tr>\n",
       "    <tr>\n",
       "      <th>Proline</th>\n",
       "      <td>178.0</td>\n",
       "      <td>746.893258</td>\n",
       "      <td>314.907474</td>\n",
       "      <td>278.00</td>\n",
       "      <td>500.5000</td>\n",
       "      <td>673.500</td>\n",
       "      <td>985.0000</td>\n",
       "      <td>1680.00</td>\n",
       "    </tr>\n",
       "  </tbody>\n",
       "</table>\n",
       "</div>"
      ],
      "text/plain": [
       "                        count        mean         std     min       25%  \\\n",
       "Class                   178.0    1.938202    0.775035    1.00    1.0000   \n",
       "Alcohol                 178.0   13.000618    0.811827   11.03   12.3625   \n",
       "Malic Acid              178.0    2.336348    1.117146    0.74    1.6025   \n",
       "Ash                     178.0    2.366517    0.274344    1.36    2.2100   \n",
       "Alcalinity of Ash       178.0   19.494944    3.339564   10.60   17.2000   \n",
       "Magnesium               178.0   99.741573   14.282484   70.00   88.0000   \n",
       "Phenols                 178.0    2.295112    0.625851    0.98    1.7425   \n",
       "Flavanoids              178.0    2.029270    0.998859    0.34    1.2050   \n",
       "Non-Flavanoids Phenols  178.0    0.361854    0.124453    0.13    0.2700   \n",
       "Proanthocyanins         178.0    1.590899    0.572359    0.41    1.2500   \n",
       "Color Intensity         178.0    5.058090    2.318286    1.28    3.2200   \n",
       "Hue                     178.0    0.957449    0.228572    0.48    0.7825   \n",
       "Diluted Wines           178.0    2.611685    0.709990    1.27    1.9375   \n",
       "Proline                 178.0  746.893258  314.907474  278.00  500.5000   \n",
       "\n",
       "                            50%       75%      max  \n",
       "Class                     2.000    3.0000     3.00  \n",
       "Alcohol                  13.050   13.6775    14.83  \n",
       "Malic Acid                1.865    3.0825     5.80  \n",
       "Ash                       2.360    2.5575     3.23  \n",
       "Alcalinity of Ash        19.500   21.5000    30.00  \n",
       "Magnesium                98.000  107.0000   162.00  \n",
       "Phenols                   2.355    2.8000     3.88  \n",
       "Flavanoids                2.135    2.8750     5.08  \n",
       "Non-Flavanoids Phenols    0.340    0.4375     0.66  \n",
       "Proanthocyanins           1.555    1.9500     3.58  \n",
       "Color Intensity           4.690    6.2000    13.00  \n",
       "Hue                       0.965    1.1200     1.71  \n",
       "Diluted Wines             2.780    3.1700     4.00  \n",
       "Proline                 673.500  985.0000  1680.00  "
      ]
     },
     "execution_count": 5,
     "metadata": {},
     "output_type": "execute_result"
    }
   ],
   "source": [
    "data.describe().T"
   ]
  },
  {
   "cell_type": "code",
   "execution_count": 6,
   "metadata": {},
   "outputs": [
    {
     "data": {
      "text/plain": [
       "Class                     0\n",
       "Alcohol                   0\n",
       "Malic Acid                0\n",
       "Ash                       0\n",
       "Alcalinity of Ash         0\n",
       "Magnesium                 0\n",
       "Phenols                   0\n",
       "Flavanoids                0\n",
       "Non-Flavanoids Phenols    0\n",
       "Proanthocyanins           0\n",
       "Color Intensity           0\n",
       "Hue                       0\n",
       "Diluted Wines             0\n",
       "Proline                   0\n",
       "dtype: int64"
      ]
     },
     "execution_count": 6,
     "metadata": {},
     "output_type": "execute_result"
    }
   ],
   "source": [
    "data.isnull().sum()"
   ]
  },
  {
   "cell_type": "code",
   "execution_count": 7,
   "metadata": {},
   "outputs": [
    {
     "data": {
      "image/png": "[encoded data removed]",
      "text/plain": [
       "<Figure size 432x288 with 1 Axes>"
      ]
     },
     "metadata": {
      "needs_background": "light"
     },
     "output_type": "display_data"
    }
   ],
   "source": [
    "# checking the count of the target variable\n",
    "sns.countplot(data['Class'])\n",
    "plt.show()"
   ]
  },
  {
   "cell_type": "markdown",
   "metadata": {},
   "source": [
    "***1.\tStandardize the d-dimensional dataset.***"
   ]
  },
  {
   "cell_type": "code",
   "execution_count": 8,
   "metadata": {},
   "outputs": [
    {
     "name": "stderr",
     "output_type": "stream",
     "text": [
      "C:\\Users\\DEBASHIS\\Anaconda3\\lib\\site-packages\\sklearn\\preprocessing\\data.py:625: DataConversionWarning: Data with input dtype int64, float64 were all converted to float64 by StandardScaler.\n",
      "  return self.partial_fit(X, y)\n",
      "C:\\Users\\DEBASHIS\\Anaconda3\\lib\\site-packages\\sklearn\\base.py:462: DataConversionWarning: Data with input dtype int64, float64 were all converted to float64 by StandardScaler.\n",
      "  return self.fit(X, **fit_params).transform(X)\n"
     ]
    }
   ],
   "source": [
    "x = data.drop(['Class'], axis=1)\n",
    "y = data['Class']\n",
    "\n",
    "sc = StandardScaler()\n",
    "x_std = sc.fit_transform(x)"
   ]
  },
  {
   "cell_type": "markdown",
   "metadata": {},
   "source": [
    "***2.\tConstruct the covariance matrix.***"
   ]
  },
  {
   "cell_type": "code",
   "execution_count": 9,
   "metadata": {},
   "outputs": [
    {
     "name": "stdout",
     "output_type": "stream",
     "text": [
      "\n",
      "Eigenvalues \n",
      "[4.73243698 2.51108093 1.45424187 0.92416587 0.85804868 0.64528221\n",
      " 0.55414147 0.10396199 0.35046627 0.16972374 0.29051203 0.22706428\n",
      " 0.25232001]\n"
     ]
    }
   ],
   "source": [
    "covariance_matrix = np.cov(x_std.T)\n",
    "\n",
    "eigen_vals, eigen_vecs = np.linalg.eig(covariance_matrix)\n",
    "print('\\nEigenvalues \\n%s' % eigen_vals)"
   ]
  },
  {
   "cell_type": "markdown",
   "metadata": {},
   "source": [
    "***3.\tDecompose the covariance matrix into its eigenvectors and eigenvalues.***\n"
   ]
  },
  {
   "cell_type": "code",
   "execution_count": 10,
   "metadata": {},
   "outputs": [
    {
     "data": {
      "image/png": "[encoded data removed]",
      "text/plain": [
       "<Figure size 432x288 with 1 Axes>"
      ]
     },
     "metadata": {
      "needs_background": "light"
     },
     "output_type": "display_data"
    }
   ],
   "source": [
    "tot = sum(eigen_vals)\n",
    "var_exp = [(i / tot) for i in\n",
    "sorted(eigen_vals, reverse=True)]\n",
    "cum_var_exp = np.cumsum(var_exp)\n",
    "import matplotlib.pyplot as plt\n",
    "plt.bar(range(1,14), var_exp, alpha=0.5, align='center',\n",
    "label='individual explained variance')\n",
    "plt.step(range(1,14), cum_var_exp, where='mid',\n",
    "label='cumulative explained variance')\n",
    "plt.ylabel('Explained variance ratio')\n",
    "plt.xlabel('Principal components')\n",
    "plt.legend(loc='best')\n",
    "plt.show()"
   ]
  },
  {
   "cell_type": "markdown",
   "metadata": {},
   "source": [
    "***4.\tSelect k eigenvectors that correspond to the k largest eigenvalues,  where k is the dimensionality of the new feature subspace ( k≤d ).***"
   ]
  },
  {
   "cell_type": "code",
   "execution_count": 11,
   "metadata": {},
   "outputs": [
    {
     "data": {
      "text/plain": [
       "[(4.732436977583593,\n",
       "  array([-0.1443294 ,  0.24518758,  0.00205106,  0.23932041, -0.14199204,\n",
       "         -0.39466085, -0.4229343 ,  0.2985331 , -0.31342949,  0.0886167 ,\n",
       "         -0.29671456, -0.37616741, -0.28675223])),\n",
       " (2.511080929645122,\n",
       "  array([ 0.48365155,  0.22493093,  0.31606881, -0.0105905 ,  0.299634  ,\n",
       "          0.06503951, -0.00335981,  0.02877949,  0.03930172,  0.52999567,\n",
       "         -0.27923515, -0.16449619,  0.36490283])),\n",
       " (1.4542418678464688,\n",
       "  array([ 0.20738262, -0.08901289, -0.6262239 , -0.61208035, -0.13075693,\n",
       "         -0.14617896, -0.1506819 , -0.17036816, -0.14945431,  0.13730621,\n",
       "         -0.08522192, -0.16600459,  0.12674592])),\n",
       " (0.9241658668248742,\n",
       "  array([-0.0178563 ,  0.53689028, -0.21417556,  0.06085941, -0.35179658,\n",
       "          0.19806835,  0.15229479, -0.20330102,  0.39905653,  0.06592568,\n",
       "         -0.42777141,  0.18412074, -0.23207086])),\n",
       " (0.8580486765371106,\n",
       "  array([-0.26566365,  0.03521363, -0.14302547,  0.06610294,  0.72704851,\n",
       "         -0.14931841, -0.10902584, -0.50070298,  0.13685982, -0.07643678,\n",
       "         -0.17361452, -0.10116099, -0.1578688 ])),\n",
       " (0.6452822124678536,\n",
       "  array([ 0.21353865,  0.53681385,  0.15447466, -0.10082451,  0.03814394,\n",
       "         -0.0841223 , -0.01892002, -0.25859401, -0.53379539, -0.41864414,\n",
       "          0.10598274,  0.26585107,  0.11972557])),\n",
       " (0.5541414662457844,\n",
       "  array([ 0.05639636, -0.42052391,  0.14917061,  0.28696914, -0.3228833 ,\n",
       "          0.02792498,  0.06068521, -0.59544729, -0.37213935,  0.22771214,\n",
       "         -0.23207564,  0.0447637 , -0.0768045 ])),\n",
       " (0.3504662749462538,\n",
       "  array([ 0.39613926,  0.06582674, -0.17026002,  0.42797018, -0.15636143,\n",
       "         -0.40593409, -0.18724536, -0.23328465,  0.36822675, -0.03379692,\n",
       "          0.43662362, -0.07810789,  0.12002267])),\n",
       " (0.2905120326939766,\n",
       "  array([-0.50861912,  0.07528304,  0.30769445, -0.20044931, -0.27140257,\n",
       "         -0.28603452, -0.04957849, -0.19550132,  0.20914487, -0.05621752,\n",
       "         -0.08582839, -0.1372269 ,  0.57578611])),\n",
       " (0.2523200103608249,\n",
       "  array([ 0.21160473, -0.30907994, -0.02712539,  0.05279942,  0.06787022,\n",
       "         -0.32013135, -0.16315051,  0.21553507,  0.1341839 , -0.29077518,\n",
       "         -0.52239889,  0.52370587,  0.162116  ])),\n",
       " (0.22706428173088491,\n",
       "  array([-0.22591696,  0.07648554, -0.49869142,  0.47931378,  0.07128891,\n",
       "          0.30434119, -0.02569409,  0.11689586, -0.23736257,  0.0318388 ,\n",
       "         -0.04821201,  0.0464233 ,  0.53926983])),\n",
       " (0.16972373898012177,\n",
       "  array([-0.26628645,  0.12169604, -0.04962237, -0.05574287,  0.06222011,\n",
       "         -0.30388245, -0.04289883,  0.04235219, -0.09555303,  0.60422163,\n",
       "          0.259214  ,  0.60095872, -0.07940162])),\n",
       " (0.1039619918207529,\n",
       "  array([-0.01496997, -0.02596375,  0.14121803, -0.09168285, -0.05677422,\n",
       "          0.46390791, -0.83225706, -0.11403985,  0.11691707,  0.0119928 ,\n",
       "          0.08988884,  0.15671813, -0.01444734]))]"
      ]
     },
     "execution_count": 11,
     "metadata": {},
     "output_type": "execute_result"
    }
   ],
   "source": [
    "eigen_pairs =[(np.abs(eigen_vals[i]),eigen_vecs[:,i])\n",
    "for i in range(len(eigen_vals))]\n",
    "eigen_pairs.sort(reverse=True)\n",
    "eigen_pairs"
   ]
  },
  {
   "cell_type": "markdown",
   "metadata": {},
   "source": [
    "***5.\tConstruct a projection matrix W from the \"top\" k eigenvectors.***"
   ]
  },
  {
   "cell_type": "code",
   "execution_count": 12,
   "metadata": {},
   "outputs": [
    {
     "name": "stdout",
     "output_type": "stream",
     "text": [
      "Matrix W:\n",
      " [[-0.1443294   0.48365155]\n",
      " [ 0.24518758  0.22493093]\n",
      " [ 0.00205106  0.31606881]\n",
      " [ 0.23932041 -0.0105905 ]\n",
      " [-0.14199204  0.299634  ]\n",
      " [-0.39466085  0.06503951]\n",
      " [-0.4229343  -0.00335981]\n",
      " [ 0.2985331   0.02877949]\n",
      " [-0.31342949  0.03930172]\n",
      " [ 0.0886167   0.52999567]\n",
      " [-0.29671456 -0.27923515]\n",
      " [-0.37616741 -0.16449619]\n",
      " [-0.28675223  0.36490283]]\n"
     ]
    }
   ],
   "source": [
    "w= np.hstack((eigen_pairs[0][1][:, np.newaxis],\n",
    "eigen_pairs[1][1][:, np.newaxis]))\n",
    "print('Matrix W:\\n',w)"
   ]
  },
  {
   "cell_type": "markdown",
   "metadata": {},
   "source": [
    "***6.\tTransform the d-dimensional input dataset x using the projection matrix W to obtain the new k-dimensional feature subspace***"
   ]
  },
  {
   "cell_type": "code",
   "execution_count": 13,
   "metadata": {},
   "outputs": [],
   "source": [
    "x_pca = x_std.dot(w)"
   ]
  },
  {
   "cell_type": "code",
   "execution_count": 14,
   "metadata": {},
   "outputs": [
    {
     "data": {
      "image/png": "[encoded data removed]",
      "text/plain": [
       "<Figure size 432x288 with 1 Axes>"
      ]
     },
     "metadata": {
      "needs_background": "light"
     },
     "output_type": "display_data"
    }
   ],
   "source": [
    "colors = ['r', 'b', 'g']\n",
    "markers = ['s', 'x', 'o']\n",
    "for l, c, m in zip(np.unique(y), colors, markers):\n",
    "    plt.scatter(x_pca[y==l, 0], x_pca[y==l, 1],\n",
    "            c=c, label=l, marker=m)\n",
    "plt.xlabel('PC 1')\n",
    "plt.ylabel('PC 2')\n",
    "plt.legend(loc='lower left')\n",
    "plt.show()"
   ]
  }
 ],
 "metadata": {
  "kernelspec": {
   "display_name": "Python 3",
   "language": "python",
   "name": "python3"
  },
  "language_info": {
   "codemirror_mode": {
    "name": "ipython",
    "version": 3
   },
   "file_extension": ".py",
   "mimetype": "text/x-python",
   "name": "python",
   "nbconvert_exporter": "python",
   "pygments_lexer": "ipython3",
   "version": "3.7.1"
  }
 },
 "nbformat": 4,
 "nbformat_minor": 2
}
